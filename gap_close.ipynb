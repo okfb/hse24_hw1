{
 "cells": [
  {
   "cell_type": "code",
   "execution_count": 14,
   "metadata": {},
   "outputs": [
    {
     "name": "stdout",
     "output_type": "stream",
     "text": [
      "Requirement already satisfied: biopython in c:\\users\\79263\\anaconda3\\lib\\site-packages (1.84)\n",
      "Requirement already satisfied: numpy in c:\\users\\79263\\anaconda3\\lib\\site-packages (from biopython) (1.24.3)\n",
      "Note: you may need to restart the kernel to use updated packages.\n"
     ]
    }
   ],
   "source": [
    "%pip install biopython\n",
    "from Bio import SeqIO"
   ]
  },
  {
   "cell_type": "code",
   "execution_count": 15,
   "metadata": {},
   "outputs": [
    {
     "name": "stdout",
     "output_type": "stream",
     "text": [
      "Гепы: 231\n",
      "Длина: 13777\n"
     ]
    }
   ],
   "source": [
    "scaffold = ''\n",
    "for record in SeqIO.parse('./lessy/scaffold/platanus_scaffold.fa', 'fasta'):\n",
    "    if len(record.seq) > len(scaffold):\n",
    "        scaffold = record.seq\n",
    "    \n",
    "scaffold_str = str(scaffold)\n",
    "    \n",
    "a = ('0' + scaffold_str + '0').split('N')\n",
    "c = 0\n",
    "for b in a:\n",
    "    if b != '':\n",
    "        c += 1\n",
    "print('Гепы:', c-1)\n",
    "    \n",
    "print('Длина:', scaffold_str.count('N'))"
   ]
  },
  {
   "cell_type": "code",
   "execution_count": 16,
   "metadata": {},
   "outputs": [
    {
     "name": "stdout",
     "output_type": "stream",
     "text": [
      "Гепы: 21\n",
      "Длина: 8088\n"
     ]
    }
   ],
   "source": [
    "scaffold = ''\n",
    "for record in SeqIO.parse('./lessy/gap_close/platanus_gapClosed.fa', 'fasta'):\n",
    "    if len(record.seq) > len(scaffold):\n",
    "        scaffold = record.seq\n",
    "    \n",
    "scaffold_str = str(scaffold)\n",
    "    \n",
    "a = ('0' + scaffold_str + '0').split('N')\n",
    "c = 0\n",
    "for b in a:\n",
    "    if b != '':\n",
    "        c += 1\n",
    "print('Гепы:', c-1)\n",
    "    \n",
    "print('Длина:', scaffold_str.count('N'))"
   ]
  }
 ],
 "metadata": {
  "kernelspec": {
   "display_name": "Python 3",
   "language": "python",
   "name": "python3"
  },
  "language_info": {
   "codemirror_mode": {
    "name": "ipython",
    "version": 3
   },
   "file_extension": ".py",
   "mimetype": "text/x-python",
   "name": "python",
   "nbconvert_exporter": "python",
   "pygments_lexer": "ipython3",
   "version": "3.11.5"
  }
 },
 "nbformat": 4,
 "nbformat_minor": 2
}
