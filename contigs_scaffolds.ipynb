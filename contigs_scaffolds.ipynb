{
 "cells": [
  {
   "cell_type": "code",
   "execution_count": 20,
   "metadata": {},
   "outputs": [],
   "source": [
    "f = open(\"./lessy/assemble/platanus_contig.fa\", \"r\", encoding='utf-8')"
   ]
  },
  {
   "cell_type": "code",
   "execution_count": 21,
   "metadata": {},
   "outputs": [
    {
     "name": "stdout",
     "output_type": "stream",
     "text": [
      "2210\n"
     ]
    },
    {
     "data": {
      "text/plain": [
       "0"
      ]
     },
     "execution_count": 21,
     "metadata": {},
     "output_type": "execute_result"
    }
   ],
   "source": [
    "#колво контигов/скаффолдов\n",
    "print(f.read().count('>'))\n",
    "f.seek(0)"
   ]
  },
  {
   "cell_type": "code",
   "execution_count": 22,
   "metadata": {},
   "outputs": [
    {
     "name": "stdout",
     "output_type": "stream",
     "text": [
      "3912406\n"
     ]
    }
   ],
   "source": [
    "#длина\n",
    "lines = f.readlines()\n",
    "s = 0\n",
    "l = []\n",
    "for line in lines:\n",
    "    if line[0] != '>':\n",
    "        continue\n",
    "    j = line.find('len') + 3\n",
    "    k = line.find('_', j)\n",
    "    n = int(line[j:k])\n",
    "    s += n\n",
    "    l.append(n)\n",
    "print(s)\n",
    "\n"
   ]
  },
  {
   "cell_type": "code",
   "execution_count": 23,
   "metadata": {},
   "outputs": [
    {
     "name": "stdout",
     "output_type": "stream",
     "text": [
      "58847\n"
     ]
    }
   ],
   "source": [
    "#самый длинный контиг/скаффолд\n",
    "l = sorted(l,reverse=True)\n",
    "print(l[0])"
   ]
  },
  {
   "cell_type": "code",
   "execution_count": 24,
   "metadata": {},
   "outputs": [
    {
     "name": "stdout",
     "output_type": "stream",
     "text": [
      "10501\n"
     ]
    }
   ],
   "source": [
    "#n50\n",
    "s2, i = 0, 0\n",
    "while s2 < s * 0.5:\n",
    "    s2 += l[i]\n",
    "    i += 1\n",
    "print(l[i-1])"
   ]
  },
  {
   "cell_type": "code",
   "execution_count": 25,
   "metadata": {},
   "outputs": [],
   "source": [
    "f.close()"
   ]
  }
 ],
 "metadata": {
  "kernelspec": {
   "display_name": "Python 3",
   "language": "python",
   "name": "python3"
  },
  "language_info": {
   "codemirror_mode": {
    "name": "ipython",
    "version": 3
   },
   "file_extension": ".py",
   "mimetype": "text/x-python",
   "name": "python",
   "nbconvert_exporter": "python",
   "pygments_lexer": "ipython3",
   "version": "3.11.5"
  }
 },
 "nbformat": 4,
 "nbformat_minor": 2
}
